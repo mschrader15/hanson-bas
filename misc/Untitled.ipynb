{
 "cells": [
  {
   "cell_type": "code",
   "execution_count": 1,
   "metadata": {},
   "outputs": [],
   "source": [
    "import requests"
   ]
  },
  {
   "cell_type": "code",
   "execution_count": 13,
   "metadata": {},
   "outputs": [],
   "source": [
    "r = requests.get('http://skyspark.hanson-inc.com:8080/api/springfieldHanson/about',  auth=('administrator', 'IownSkyspark'))"
   ]
  },
  {
   "cell_type": "code",
   "execution_count": 34,
   "metadata": {},
   "outputs": [
    {
     "name": "stdout",
     "output_type": "stream",
     "text": [
      "\n"
     ]
    }
   ],
   "source": [
    "# Fill in your details here to be posted to the login form.\n",
    "auth = ('administrator', 'IownSkyspark')\n",
    "#     'username': 'administrator',\n",
    "#     'password': 'IownSkyspark'\n",
    "# }\n",
    "\n",
    "# Use 'with' to ensure the session context is closed after use.\n",
    "with requests.Session() as s:\n",
    "    p = s.request(method='GET', \n",
    "                  url='http://skyspark.hanson-inc.com:8080/api/springfieldHanson/haystack/about', \n",
    "                  #headers=headers,\n",
    "                  auth=auth,\n",
    "                 )\n",
    "    # print the html returned or something more intelligent to see if it's a successful login page.\n",
    "    print(p.text)\n",
    "\n",
    "    # An authorised request.\n",
    "    #r = s.get('A protected web page url')\n",
    "    #print(r.text)\n",
    "        # etc..."
   ]
  },
  {
   "cell_type": "code",
   "execution_count": 36,
   "metadata": {},
   "outputs": [
    {
     "data": {
      "text/plain": [
       "{'Date': 'Thu, 08 Oct 2020 13:56:38 GMT', 'Content-Length': '0', 'Content-Security-Policy': \"frame-ancestors 'self'\", 'X-Content-Security-Policy': \"frame-ancestors 'self'\", 'X-Frame-Options': 'SAMEORIGIN', 'Connection': 'close', 'Cache-Control': 'no-cache, no-store, private'}"
      ]
     },
     "execution_count": 36,
     "metadata": {},
     "output_type": "execute_result"
    }
   ],
   "source": [
    "p.headers"
   ]
  }
 ],
 "metadata": {
  "kernelspec": {
   "display_name": "bas",
   "language": "python",
   "name": "bas"
  },
  "language_info": {
   "codemirror_mode": {
    "name": "ipython",
    "version": 3
   },
   "file_extension": ".py",
   "mimetype": "text/x-python",
   "name": "python",
   "nbconvert_exporter": "python",
   "pygments_lexer": "ipython3",
   "version": "3.8.6"
  }
 },
 "nbformat": 4,
 "nbformat_minor": 4
}
