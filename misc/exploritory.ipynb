{
 "cells": [
  {
   "cell_type": "code",
   "execution_count": 1,
   "metadata": {},
   "outputs": [],
   "source": [
    "import logging\n",
    "logging.getLogger().setLevel(logging.INFO)   \n",
    "from pyhaystack.client.skyspark import SkysparkHaystackSession"
   ]
  },
  {
   "cell_type": "code",
   "execution_count": 2,
   "metadata": {},
   "outputs": [],
   "source": [
    "import pyhaystack\n",
    "session = pyhaystack.connect(implementation='skyspark',\n",
    "                                uri='http://skyspark.hanson-inc.com:8080',\n",
    "                                username='administrator',\n",
    "                                password='IownSkyspark',\n",
    "                                project='springfieldHanson',\n",
    "                                pint=True)"
   ]
  },
  {
   "cell_type": "code",
   "execution_count": 3,
   "metadata": {},
   "outputs": [],
   "source": [
    "session\n",
    "op = session.about()\n",
    "op.wait()\n",
    "nav = op.result\n",
    "# print(nav)"
   ]
  },
  {
   "cell_type": "code",
   "execution_count": 12,
   "metadata": {},
   "outputs": [
    {
     "ename": "NotImplementedError",
     "evalue": "To be implemented in TaggingModel",
     "output_type": "error",
     "traceback": [
      "\u001b[1;31m---------------------------------------------------------------------------\u001b[0m",
      "\u001b[1;31mNotImplementedError\u001b[0m                       Traceback (most recent call last)",
      "\u001b[1;32m<ipython-input-12-da96b0404ee1>\u001b[0m in \u001b[0;36m<module>\u001b[1;34m\u001b[0m\n\u001b[0;32m      6\u001b[0m \u001b[0mt\u001b[0m\u001b[1;33m[\u001b[0m\u001b[1;34m'navName'\u001b[0m\u001b[1;33m]\u001b[0m \u001b[1;33m=\u001b[0m \u001b[1;34m'boiler'\u001b[0m\u001b[1;33m\u001b[0m\u001b[1;33m\u001b[0m\u001b[0m\n\u001b[0;32m      7\u001b[0m \u001b[0mt\u001b[0m\u001b[1;33m[\u001b[0m\u001b[1;34m'id'\u001b[0m\u001b[1;33m]\u001b[0m \u001b[1;33m=\u001b[0m \u001b[1;34m'111'\u001b[0m\u001b[1;33m\u001b[0m\u001b[1;33m\u001b[0m\u001b[0m\n\u001b[1;32m----> 8\u001b[1;33m \u001b[0mt\u001b[0m \u001b[1;33m=\u001b[0m \u001b[0mmodel\u001b[0m\u001b[1;33m.\u001b[0m\u001b[0mTaggingModel\u001b[0m\u001b[1;33m(\u001b[0m\u001b[0msession\u001b[0m\u001b[1;33m)\u001b[0m\u001b[1;33m.\u001b[0m\u001b[0mcreate_entity\u001b[0m\u001b[1;33m(\u001b[0m\u001b[0mentity_id\u001b[0m\u001b[1;33m=\u001b[0m\u001b[1;34m'111'\u001b[0m\u001b[1;33m,\u001b[0m \u001b[0mtags\u001b[0m\u001b[1;33m=\u001b[0m\u001b[1;33m{\u001b[0m\u001b[1;34m'siteRef'\u001b[0m\u001b[1;33m:\u001b[0m \u001b[0mmy_equip\u001b[0m\u001b[1;33m.\u001b[0m\u001b[0mpoints\u001b[0m\u001b[1;33m[\u001b[0m\u001b[1;36m0\u001b[0m\u001b[1;33m]\u001b[0m\u001b[1;33m.\u001b[0m\u001b[0mtags\u001b[0m\u001b[1;33m[\u001b[0m\u001b[1;34m'siteRef'\u001b[0m\u001b[1;33m]\u001b[0m\u001b[1;33m}\u001b[0m\u001b[1;33m)\u001b[0m\u001b[1;33m\u001b[0m\u001b[1;33m\u001b[0m\u001b[0m\n\u001b[0m\u001b[0;32m      9\u001b[0m \u001b[1;31m#r = t.commit()\u001b[0m\u001b[1;33m\u001b[0m\u001b[1;33m\u001b[0m\u001b[1;33m\u001b[0m\u001b[0m\n\u001b[0;32m     10\u001b[0m \u001b[1;31m# r = model.TaggingModel(session).create_entity(tags=t)\u001b[0m\u001b[1;33m\u001b[0m\u001b[1;33m\u001b[0m\u001b[1;33m\u001b[0m\u001b[0m\n",
      "\u001b[1;32m~\\PycharmProjects\\hanson-bas\\venv\\lib\\site-packages\\pyhaystack\\client\\entity\\model.py\u001b[0m in \u001b[0;36mcreate_entity\u001b[1;34m(self, entity_id, tags)\u001b[0m\n\u001b[0;32m     32\u001b[0m         \"\"\"\n\u001b[0;32m     33\u001b[0m         \u001b[0msession\u001b[0m \u001b[1;33m=\u001b[0m \u001b[0mself\u001b[0m\u001b[1;33m.\u001b[0m\u001b[0m_session\u001b[0m\u001b[1;33m(\u001b[0m\u001b[1;33m)\u001b[0m\u001b[1;33m\u001b[0m\u001b[1;33m\u001b[0m\u001b[0m\n\u001b[1;32m---> 34\u001b[1;33m         \u001b[1;33m(\u001b[0m\u001b[0mclass_name\u001b[0m\u001b[1;33m,\u001b[0m \u001b[0mtypes\u001b[0m\u001b[1;33m)\u001b[0m \u001b[1;33m=\u001b[0m \u001b[0mself\u001b[0m\u001b[1;33m.\u001b[0m\u001b[0m_identify_types\u001b[0m\u001b[1;33m(\u001b[0m\u001b[0mtags\u001b[0m\u001b[1;33m)\u001b[0m\u001b[1;33m\u001b[0m\u001b[1;33m\u001b[0m\u001b[0m\n\u001b[0m\u001b[0;32m     35\u001b[0m \u001b[1;33m\u001b[0m\u001b[0m\n\u001b[0;32m     36\u001b[0m         \u001b[1;31m# Does the session instance support CRUD?  Add the appropriate base\u001b[0m\u001b[1;33m\u001b[0m\u001b[1;33m\u001b[0m\u001b[1;33m\u001b[0m\u001b[0m\n",
      "\u001b[1;32m~\\PycharmProjects\\hanson-bas\\venv\\lib\\site-packages\\pyhaystack\\client\\entity\\model.py\u001b[0m in \u001b[0;36m_identify_types\u001b[1;34m(self, tags)\u001b[0m\n\u001b[0;32m     59\u001b[0m           \u001b[0mthat\u001b[0m \u001b[0mobject\u001b[0m\u001b[1;33m.\u001b[0m\u001b[1;33m\u001b[0m\u001b[1;33m\u001b[0m\u001b[0m\n\u001b[0;32m     60\u001b[0m         \"\"\"\n\u001b[1;32m---> 61\u001b[1;33m         \u001b[1;32mraise\u001b[0m \u001b[0mNotImplementedError\u001b[0m\u001b[1;33m(\u001b[0m\u001b[1;34m\"To be implemented in %s\"\u001b[0m \u001b[1;33m%\u001b[0m \u001b[0mself\u001b[0m\u001b[1;33m.\u001b[0m\u001b[0m__class__\u001b[0m\u001b[1;33m.\u001b[0m\u001b[0m__name__\u001b[0m\u001b[1;33m)\u001b[0m\u001b[1;33m\u001b[0m\u001b[1;33m\u001b[0m\u001b[0m\n\u001b[0m",
      "\u001b[1;31mNotImplementedError\u001b[0m: To be implemented in TaggingModel"
     ]
    }
   ],
   "source": [
    "from pyhaystack.client.entity import model, entity\n",
    "import pyhaystack.client.entity.tags as Tags\n",
    "# model.TaggingModel.create_entity(session, 'test', tags=Tags)\n",
    "t  = Tags.BaseMutableEntityTags(entity=entity.Entity(session, entity_id='111'))\n",
    "t['siteRef'] = my_equip.points[0].tags['siteRef']\n",
    "t['navName'] = 'boiler'\n",
    "t['id'] = '111'\n",
    "t = model.TaggingModel(session).create_entity(entity_id='111', tags={'siteRef': my_equip.points[0].tags['siteRef']})\n",
    "#r = t.commit()\n",
    "# r = model.TaggingModel(session).create_entity(tags=t)"
   ]
  },
  {
   "cell_type": "code",
   "execution_count": 6,
   "metadata": {},
   "outputs": [
    {
     "name": "stdout",
     "output_type": "stream",
     "text": [
      "{'p:springfieldHanson:r:27062a75-94bd909d': <@p:springfieldHanson:r:27062a75-94bd909d: {area=PintQuantity(55444.0, <UnitsContainer({'foot': 2})>), dis='Springfield - Hanson Building 1', geoAddr='1525 South 6th Street', geoCity='Springfield', geoCoord=Coordinate(39.785234, 89.64882), geoCountry='US', geoCounty='Sangamon', geoPostalCode='62703', geoState='IL', mod=datetime.datetime(2020, 9, 29, 20, 19, 31, 917000, tzinfo=datetime.timezone.utc), primaryFunction='Office', site, tz='Chicago', weatherRef=Ref('p:springfieldHanson:r:27062b32-49890a5a', 'Springfield, IL', True), yearBuilt=1974.0}>}\n"
     ]
    }
   ],
   "source": [
    "op = session.find_entity(filter_expr='site')\n",
    "op.wait()\n",
    "site = op.result\n",
    "print(site)"
   ]
  },
  {
   "cell_type": "code",
   "execution_count": 7,
   "metadata": {},
   "outputs": [
    {
     "data": {
      "text/plain": [
       "{'p:springfieldHanson:r:270651d8-cc03a7df': <@p:springfieldHanson:r:270651d8-cc03a7df: {air, co2, cur, disMacro='$equipRef $navName', equipRef=Ref('p:springfieldHanson:r:2706518d-c3c3c9a7', 'Springfield - Hanson Building 1 rtu1', True), his, hisEnd=datetime.datetime(2020, 10, 1, 12, 45, 29, tzinfo=<DstTzInfo 'America/Chicago' CDT-1 day, 19:00:00 DST>), hisSize=1.0, hisStart=datetime.datetime(2020, 10, 1, 12, 45, 29, tzinfo=<DstTzInfo 'America/Chicago' CDT-1 day, 19:00:00 DST>), kind='Number', mod=datetime.datetime(2020, 10, 1, 17, 1, 59, 449000, tzinfo=datetime.timezone.utc), navName='rtu1_RACO2', point, return, sensor, siteRef=Ref('p:springfieldHanson:r:27062a75-94bd909d', 'Springfield - Hanson Building 1', True), tz='Chicago', unit='ppm', writable, writeLevel=17.0, writeStatus='unbound'}>,\n",
       " 'p:springfieldHanson:r:27062b39-2a10ba20': <@p:springfieldHanson:r:27062b39-2a10ba20: {cur, curStatus='ok', curVal=True, disMacro='$weatherRef $navName', his, hisEnd=datetime.datetime(2020, 10, 1, 6, 55, tzinfo=<DstTzInfo 'America/Chicago' CDT-1 day, 19:00:00 DST>), hisSize=16.0, hisStart=datetime.datetime(2020, 9, 23, 18, 53, tzinfo=<DstTzInfo 'America/Chicago' CDT-1 day, 19:00:00 DST>), kind='Bool', mod=datetime.datetime(2020, 9, 29, 17, 28, 25, 483000, tzinfo=datetime.timezone.utc), navName='Sunrise', point, sensor, sunrise, tz='Chicago', weatherPoint, weatherRef=Ref('p:springfieldHanson:r:27062b32-49890a5a', 'Springfield, IL', True), weatherSyncId='sunrise'}>,\n",
       " 'p:springfieldHanson:r:27062b39-0f9511e8': <@p:springfieldHanson:r:27062b39-0f9511e8: {air, cur, curStatus='ok', curVal=PintQuantity(56.0, <UnitsContainer({'%RH': 1})>), disMacro='$weatherRef $navName', his, hisEnd=datetime.datetime(2020, 10, 1, 13, 0, tzinfo=<DstTzInfo 'America/Chicago' CDT-1 day, 19:00:00 DST>), hisSize=183.0, hisStart=datetime.datetime(2020, 9, 23, 23, 0, tzinfo=<DstTzInfo 'America/Chicago' CDT-1 day, 19:00:00 DST>), humidity, kind='Number', mod=datetime.datetime(2020, 9, 29, 17, 28, 25, 218000, tzinfo=datetime.timezone.utc), navName='Humidity', point, sensor, tz='Chicago', unit='%RH', weatherPoint, weatherRef=Ref('p:springfieldHanson:r:27062b32-49890a5a', 'Springfield, IL', True), weatherSyncId='humidity'}>,\n",
       " 'p:springfieldHanson:r:27062b39-a75775a9': <@p:springfieldHanson:r:27062b39-a75775a9: {air, cur, curStatus='ok', curVal=PintQuantity(61.0, <UnitsContainer({'degree_Fahrenheit': 1})>), disMacro='$weatherRef $navName', his, hisEnd=datetime.datetime(2020, 10, 1, 13, 0, tzinfo=<DstTzInfo 'America/Chicago' CDT-1 day, 19:00:00 DST>), hisSize=183.0, hisStart=datetime.datetime(2020, 9, 23, 23, 0, tzinfo=<DstTzInfo 'America/Chicago' CDT-1 day, 19:00:00 DST>), kind='Number', mod=datetime.datetime(2020, 9, 29, 17, 28, 25, 746000, tzinfo=datetime.timezone.utc), navName='Temp', point, sensor, temp, tz='Chicago', unit='°F', weatherPoint, weatherRef=Ref('p:springfieldHanson:r:27062b32-49890a5a', 'Springfield, IL', True), weatherSyncId='temp'}>,\n",
       " 'p:springfieldHanson:r:270651fa-769ab7d1': <@p:springfieldHanson:r:270651fa-769ab7d1: {air, co2, disMacro='$equipRef $navName', equipRef=Ref('p:springfieldHanson:r:2706518d-c34d279b', 'Springfield - Hanson Building 1 rtu2', True), kind='Number', mod=datetime.datetime(2020, 9, 29, 20, 17, 17, 55000, tzinfo=datetime.timezone.utc), navName='_RACO2', point, return, sensor, siteRef=Ref('p:springfieldHanson:r:27062a75-94bd909d', 'Springfield - Hanson Building 1', True), tz='Chicago', unit='ppm'}>,\n",
       " 'p:springfieldHanson:r:27062b38-228593e4': <@p:springfieldHanson:r:27062b38-228593e4: {cur, curStatus='ok', curVal='partlyCloudy', disMacro='$weatherRef $navName', enum='unknown,clear,partlyCloudy,cloudy,showers,rain,thunderstorms,ice,flurries,snow', his, hisEnd=datetime.datetime(2020, 10, 1, 13, 0, tzinfo=<DstTzInfo 'America/Chicago' CDT-1 day, 19:00:00 DST>), hisSize=183.0, hisStart=datetime.datetime(2020, 9, 23, 23, 0, tzinfo=<DstTzInfo 'America/Chicago' CDT-1 day, 19:00:00 DST>), kind='Str', mod=datetime.datetime(2020, 9, 29, 17, 28, 24, 947000, tzinfo=datetime.timezone.utc), navName='Condition', point, sensor, tz='Chicago', weatherCond, weatherPoint, weatherRef=Ref('p:springfieldHanson:r:27062b32-49890a5a', 'Springfield, IL', True), weatherSyncId='condition'}>}"
      ]
     },
     "execution_count": 7,
     "metadata": {},
     "output_type": "execute_result"
    }
   ],
   "source": [
    "op = session.find_entity(filter_expr='sensor')\n",
    "op.wait()\n",
    "res = op.result\n",
    "res"
   ]
  },
  {
   "cell_type": "code",
   "execution_count": null,
   "metadata": {},
   "outputs": [],
   "source": [
    "# for item in res.values():\n",
    "#     print(item.find_entity('sensor'))"
   ]
  },
  {
   "cell_type": "code",
   "execution_count": 8,
   "metadata": {},
   "outputs": [
    {
     "name": "stdout",
     "output_type": "stream",
     "text": [
      "Reading equipments for this site...\n",
      "Reading points for this equipment...\n"
     ]
    },
    {
     "data": {
      "text/plain": [
       "Ref('p:springfieldHanson:r:27062a75-94bd909d', 'Springfield - Hanson Building 1', True)"
      ]
     },
     "execution_count": 8,
     "metadata": {},
     "output_type": "execute_result"
    }
   ],
   "source": [
    "site=session.site\n",
    "my_equip = site['rtu1']\n",
    "# equip = site.equipments\n",
    "my_equip.points[0].tags['siteRef']"
   ]
  },
  {
   "cell_type": "code",
   "execution_count": 9,
   "metadata": {},
   "outputs": [
    {
     "data": {
      "text/plain": [
       "[<@p:springfieldHanson:r:270651d8-cc03a7df: {air, co2, cur, disMacro='$equipRef $navName', equipRef=Ref('p:springfieldHanson:r:2706518d-c3c3c9a7', 'Springfield - Hanson Building 1 rtu1', True), his, hisEnd=datetime.datetime(2020, 10, 1, 12, 45, 29, tzinfo=<DstTzInfo 'America/Chicago' CDT-1 day, 19:00:00 DST>), hisSize=1.0, hisStart=datetime.datetime(2020, 10, 1, 12, 45, 29, tzinfo=<DstTzInfo 'America/Chicago' CDT-1 day, 19:00:00 DST>), kind='Number', mod=datetime.datetime(2020, 10, 1, 17, 1, 59, 449000, tzinfo=datetime.timezone.utc), navName='rtu1_RACO2', point, return, sensor, siteRef=Ref('p:springfieldHanson:r:27062a75-94bd909d', 'Springfield - Hanson Building 1', True), tz='Chicago', unit='ppm', writable, writeLevel=17.0, writeStatus='unbound'}>]"
      ]
     },
     "execution_count": 9,
     "metadata": {},
     "output_type": "execute_result"
    }
   ],
   "source": [
    "# res = my_equip.find_entity('rtu1~')\n",
    "# res.wait()\n",
    "# res\n",
    "my_equip.points"
   ]
  },
  {
   "cell_type": "code",
   "execution_count": 17,
   "metadata": {},
   "outputs": [],
   "source": [
    "res = my_equip.find_entity(filter_expr='sensor').result"
   ]
  },
  {
   "cell_type": "code",
   "execution_count": 20,
   "metadata": {},
   "outputs": [
    {
     "data": {
      "text/plain": [
       "{air, co2, cur, disMacro='$equipRef $navName', equipRef=Ref('p:springfieldHanson:r:2706518d-c3c3c9a7', 'Springfield - Hanson Building 1 rtu1', True), his, hisEnd=datetime.datetime(2020, 10, 1, 12, 45, 29, tzinfo=<DstTzInfo 'America/Chicago' CDT-1 day, 19:00:00 DST>), hisSize=1.0, hisStart=datetime.datetime(2020, 10, 1, 12, 45, 29, tzinfo=<DstTzInfo 'America/Chicago' CDT-1 day, 19:00:00 DST>), kind='Number', mod=datetime.datetime(2020, 10, 1, 17, 1, 59, 449000, tzinfo=datetime.timezone.utc), navName='rtu1_RACO2', point, return, sensor, siteRef=Ref('p:springfieldHanson:r:27062a75-94bd909d', 'Springfield - Hanson Building 1', True), tz='Chicago', unit='ppm', writable, writeLevel=17.0, writeStatus='unbound'}"
      ]
     },
     "execution_count": 20,
     "metadata": {},
     "output_type": "execute_result"
    }
   ],
   "source": [
    "res['p:springfieldHanson:r:270651d8-cc03a7df'].tags"
   ]
  }
 ],
 "metadata": {
  "kernelspec": {
   "display_name": "bas",
   "language": "python",
   "name": "bas"
  },
  "language_info": {
   "codemirror_mode": {
    "name": "ipython",
    "version": 3
   },
   "file_extension": ".py",
   "mimetype": "text/x-python",
   "name": "python",
   "nbconvert_exporter": "python",
   "pygments_lexer": "ipython3",
   "version": "3.8.6"
  }
 },
 "nbformat": 4,
 "nbformat_minor": 4
}
